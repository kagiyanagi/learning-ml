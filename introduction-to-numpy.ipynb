{
 "cells": [
  {
   "cell_type": "code",
   "execution_count": 1,
   "id": "12a22222-cfd4-4fea-86ee-fe28242feafb",
   "metadata": {},
   "outputs": [],
   "source": [
    "#NumPY\n",
    "import numpy as np"
   ]
  },
  {
   "cell_type": "markdown",
   "id": "b770828b-01da-4f1d-9b58-a78dce4bf62b",
   "metadata": {},
   "source": [
    "# DataTypes & Attributes"
   ]
  },
  {
   "cell_type": "code",
   "execution_count": 2,
   "id": "42394681-b630-4618-8759-fa5447ef46f5",
   "metadata": {},
   "outputs": [
    {
     "data": {
      "text/plain": [
       "array([1, 3, 4])"
      ]
     },
     "execution_count": 2,
     "metadata": {},
     "output_type": "execute_result"
    }
   ],
   "source": [
    "# numpy's main datatypes in ndarray\n",
    "a1 = np.array([1,3,4])\n",
    "a1"
   ]
  },
  {
   "cell_type": "code",
   "execution_count": 3,
   "id": "85b44273-8d71-460e-a5bd-6e5111a84375",
   "metadata": {},
   "outputs": [
    {
     "data": {
      "text/plain": [
       "numpy.ndarray"
      ]
     },
     "execution_count": 3,
     "metadata": {},
     "output_type": "execute_result"
    }
   ],
   "source": [
    "type(a1)"
   ]
  },
  {
   "cell_type": "code",
   "execution_count": 4,
   "id": "9e8bcd27-d66a-404c-bac3-6b970bd51f97",
   "metadata": {},
   "outputs": [],
   "source": [
    "a2 = np.array([[1,2.0,3.3],\n",
    "               [4, 5,6.5]])\n",
    "\n",
    "a3 = np.array([[[1, 2, 3],\n",
    "                [4, 5, 6],\n",
    "                [7, 8, 9]],\n",
    "               [[10, 11, 12],\n",
    "                [13, 14, 15],\n",
    "                [16, 17, 18]]])"
   ]
  },
  {
   "cell_type": "code",
   "execution_count": 5,
   "id": "1d78f05e-9d17-41b0-a397-e089c7368b6c",
   "metadata": {},
   "outputs": [
    {
     "data": {
      "text/plain": [
       "array([[[ 1,  2,  3],\n",
       "        [ 4,  5,  6],\n",
       "        [ 7,  8,  9]],\n",
       "\n",
       "       [[10, 11, 12],\n",
       "        [13, 14, 15],\n",
       "        [16, 17, 18]]])"
      ]
     },
     "execution_count": 5,
     "metadata": {},
     "output_type": "execute_result"
    }
   ],
   "source": [
    "a2\n",
    "a3"
   ]
  },
  {
   "cell_type": "code",
   "execution_count": 6,
   "id": "7dae2e62-6f1e-4568-a15e-a8b4b54c6f24",
   "metadata": {},
   "outputs": [
    {
     "data": {
      "text/plain": [
       "(3,)"
      ]
     },
     "execution_count": 6,
     "metadata": {},
     "output_type": "execute_result"
    }
   ],
   "source": [
    "a1.shape"
   ]
  },
  {
   "cell_type": "code",
   "execution_count": 7,
   "id": "1b3e0096-f746-4d50-9919-efab06e194e6",
   "metadata": {},
   "outputs": [
    {
     "data": {
      "text/plain": [
       "(2, 3)"
      ]
     },
     "execution_count": 7,
     "metadata": {},
     "output_type": "execute_result"
    }
   ],
   "source": [
    "a2.shape"
   ]
  },
  {
   "cell_type": "code",
   "execution_count": 8,
   "id": "f0010f1d-5e8c-471b-b68d-f6126a63994e",
   "metadata": {},
   "outputs": [
    {
     "data": {
      "text/plain": [
       "(2, 3, 3)"
      ]
     },
     "execution_count": 8,
     "metadata": {},
     "output_type": "execute_result"
    }
   ],
   "source": [
    "a3.shape"
   ]
  },
  {
   "cell_type": "code",
   "execution_count": 9,
   "id": "20d36abf-9a2d-4cca-a99d-de9d575848d7",
   "metadata": {},
   "outputs": [
    {
     "data": {
      "text/plain": [
       "(1, 2, 3)"
      ]
     },
     "execution_count": 9,
     "metadata": {},
     "output_type": "execute_result"
    }
   ],
   "source": [
    "a1.ndim, a2.ndim, a3.ndim"
   ]
  },
  {
   "cell_type": "code",
   "execution_count": 10,
   "id": "2ca3f630-ab12-45fb-8259-7281966d7fb9",
   "metadata": {},
   "outputs": [
    {
     "data": {
      "text/plain": [
       "dtype('int64')"
      ]
     },
     "execution_count": 10,
     "metadata": {},
     "output_type": "execute_result"
    }
   ],
   "source": [
    "a1.dtype"
   ]
  },
  {
   "cell_type": "code",
   "execution_count": 11,
   "id": "ed168b5b-2195-4125-8e51-67a852393921",
   "metadata": {},
   "outputs": [
    {
     "data": {
      "text/plain": [
       "3"
      ]
     },
     "execution_count": 11,
     "metadata": {},
     "output_type": "execute_result"
    }
   ],
   "source": [
    "a1.size"
   ]
  },
  {
   "cell_type": "code",
   "execution_count": 12,
   "id": "11ddc5cf-0422-45f8-8603-fb74f925e097",
   "metadata": {},
   "outputs": [
    {
     "data": {
      "text/html": [
       "<div>\n",
       "<style scoped>\n",
       "    .dataframe tbody tr th:only-of-type {\n",
       "        vertical-align: middle;\n",
       "    }\n",
       "\n",
       "    .dataframe tbody tr th {\n",
       "        vertical-align: top;\n",
       "    }\n",
       "\n",
       "    .dataframe thead th {\n",
       "        text-align: right;\n",
       "    }\n",
       "</style>\n",
       "<table border=\"1\" class=\"dataframe\">\n",
       "  <thead>\n",
       "    <tr style=\"text-align: right;\">\n",
       "      <th></th>\n",
       "      <th>0</th>\n",
       "      <th>1</th>\n",
       "      <th>2</th>\n",
       "    </tr>\n",
       "  </thead>\n",
       "  <tbody>\n",
       "    <tr>\n",
       "      <th>0</th>\n",
       "      <td>1.0</td>\n",
       "      <td>2.0</td>\n",
       "      <td>3.3</td>\n",
       "    </tr>\n",
       "    <tr>\n",
       "      <th>1</th>\n",
       "      <td>4.0</td>\n",
       "      <td>5.0</td>\n",
       "      <td>6.5</td>\n",
       "    </tr>\n",
       "  </tbody>\n",
       "</table>\n",
       "</div>"
      ],
      "text/plain": [
       "     0    1    2\n",
       "0  1.0  2.0  3.3\n",
       "1  4.0  5.0  6.5"
      ]
     },
     "execution_count": 12,
     "metadata": {},
     "output_type": "execute_result"
    }
   ],
   "source": [
    "# Create a DtaFrame from a numpy array\n",
    "import pandas as pd\n",
    "\n",
    "df = pd.DataFrame(a2)\n",
    "df"
   ]
  },
  {
   "cell_type": "code",
   "execution_count": 13,
   "id": "c9866dd4-a11f-4e1f-8596-e9da3e8adacc",
   "metadata": {},
   "outputs": [],
   "source": [
    "semple_array = np.array([1,2,3])"
   ]
  },
  {
   "cell_type": "markdown",
   "id": "d891cf93-a825-46c2-82de-339cba742acd",
   "metadata": {},
   "source": [
    "## 2. Creating arrays"
   ]
  },
  {
   "cell_type": "code",
   "execution_count": 14,
   "id": "9c54f4d2-e622-4f1e-9f69-30c5716d596a",
   "metadata": {},
   "outputs": [
    {
     "data": {
      "text/plain": [
       "array([1, 2, 3])"
      ]
     },
     "execution_count": 14,
     "metadata": {},
     "output_type": "execute_result"
    }
   ],
   "source": [
    "sample_array = np.array([1, 2, 3])\n",
    "sample_array"
   ]
  },
  {
   "cell_type": "code",
   "execution_count": 15,
   "id": "10809395-56ed-4dd3-97e2-4798df1703be",
   "metadata": {},
   "outputs": [
    {
     "data": {
      "text/plain": [
       "dtype('int64')"
      ]
     },
     "execution_count": 15,
     "metadata": {},
     "output_type": "execute_result"
    }
   ],
   "source": [
    "sample_array.dtype"
   ]
  },
  {
   "cell_type": "code",
   "execution_count": 16,
   "id": "bb071f63-fd28-4ae9-ae31-a1738f4cb447",
   "metadata": {},
   "outputs": [],
   "source": [
    "onces = np.ones((2, 3))"
   ]
  },
  {
   "cell_type": "code",
   "execution_count": 17,
   "id": "a2ce2bb6-d3dc-4b52-9919-ed4a7422c39f",
   "metadata": {},
   "outputs": [
    {
     "data": {
      "text/plain": [
       "array([[1., 1., 1.],\n",
       "       [1., 1., 1.]])"
      ]
     },
     "execution_count": 17,
     "metadata": {},
     "output_type": "execute_result"
    }
   ],
   "source": [
    "onces"
   ]
  },
  {
   "cell_type": "code",
   "execution_count": 18,
   "id": "d4fc1ec3-85b0-4de0-80e5-9ea7fd11aa0d",
   "metadata": {},
   "outputs": [
    {
     "data": {
      "text/plain": [
       "numpy.ndarray"
      ]
     },
     "execution_count": 18,
     "metadata": {},
     "output_type": "execute_result"
    }
   ],
   "source": [
    "onces.dtype\n",
    "type(onces)"
   ]
  },
  {
   "cell_type": "code",
   "execution_count": 19,
   "id": "175d2c1f-19d4-4eef-a510-c8b525e81549",
   "metadata": {},
   "outputs": [
    {
     "data": {
      "text/plain": [
       "array([[0., 0., 0.],\n",
       "       [0., 0., 0.]])"
      ]
     },
     "execution_count": 19,
     "metadata": {},
     "output_type": "execute_result"
    }
   ],
   "source": [
    "zeros = np.zeros((2, 3))\n",
    "zeros"
   ]
  },
  {
   "cell_type": "code",
   "execution_count": 20,
   "id": "2eb1cf77-ad19-413e-8feb-914c3a8c1493",
   "metadata": {},
   "outputs": [
    {
     "data": {
      "text/plain": [
       "array([0, 2, 4, 6, 8])"
      ]
     },
     "execution_count": 20,
     "metadata": {},
     "output_type": "execute_result"
    }
   ],
   "source": [
    "range_array = np.arange(0, 10, 2)\n",
    "range_array"
   ]
  },
  {
   "cell_type": "code",
   "execution_count": 21,
   "id": "b9a2f444-4754-48e3-881f-34e968031344",
   "metadata": {},
   "outputs": [
    {
     "data": {
      "text/plain": [
       "array([[5, 2, 1, 6, 1],\n",
       "       [3, 8, 8, 5, 9],\n",
       "       [8, 7, 7, 6, 2]])"
      ]
     },
     "execution_count": 21,
     "metadata": {},
     "output_type": "execute_result"
    }
   ],
   "source": [
    "range_array = np.random.randint(0, 10, size=(3, 5))\n",
    "range_array"
   ]
  },
  {
   "cell_type": "code",
   "execution_count": 22,
   "id": "0c1ca1a1-c0a7-46be-8140-0aa763ecc4c6",
   "metadata": {},
   "outputs": [
    {
     "data": {
      "text/plain": [
       "(3, 5)"
      ]
     },
     "execution_count": 22,
     "metadata": {},
     "output_type": "execute_result"
    }
   ],
   "source": [
    "range_array.shape"
   ]
  },
  {
   "cell_type": "code",
   "execution_count": 23,
   "id": "7506cd7d-3b16-455c-a484-ecd82eee9c32",
   "metadata": {},
   "outputs": [
    {
     "data": {
      "text/plain": [
       "array([[0.8982309 , 0.41950631, 0.99421432],\n",
       "       [0.92626897, 0.72911316, 0.84922195],\n",
       "       [0.15771831, 0.30753455, 0.95302606],\n",
       "       [0.75630241, 0.58961962, 0.15265441],\n",
       "       [0.57923341, 0.35643956, 0.00478632]])"
      ]
     },
     "execution_count": 23,
     "metadata": {},
     "output_type": "execute_result"
    }
   ],
   "source": [
    "random_array_3 = np.random.rand(5, 3)\n",
    "random_array_3"
   ]
  },
  {
   "cell_type": "code",
   "execution_count": 24,
   "id": "2a9a6fa4-9fe5-473c-b8bd-699542341a66",
   "metadata": {},
   "outputs": [
    {
     "data": {
      "text/plain": [
       "(5, 3)"
      ]
     },
     "execution_count": 24,
     "metadata": {},
     "output_type": "execute_result"
    }
   ],
   "source": [
    "random_array_3.shape"
   ]
  },
  {
   "cell_type": "code",
   "execution_count": 25,
   "id": "ad39ae01-5acf-4d27-84a2-1703691c2f5f",
   "metadata": {},
   "outputs": [
    {
     "data": {
      "text/plain": [
       "array([[44, 47, 64, 67],\n",
       "       [67,  9, 83, 21],\n",
       "       [36, 87, 70, 88],\n",
       "       [88, 12, 58, 65],\n",
       "       [39, 87, 46, 88],\n",
       "       [81, 37, 25, 77],\n",
       "       [72,  9, 20, 80]])"
      ]
     },
     "execution_count": 25,
     "metadata": {},
     "output_type": "execute_result"
    }
   ],
   "source": [
    "# Pseudo-random numebrs\n",
    "np.random.seed(seed=0)\n",
    "random_array = np.random.randint(99, size=(7, 4))\n",
    "random_array"
   ]
  },
  {
   "cell_type": "code",
   "execution_count": 26,
   "id": "7d3d6141-db24-43e6-a928-2f0579c6c1b9",
   "metadata": {},
   "outputs": [
    {
     "data": {
      "text/plain": [
       "array([[0.83261985, 0.77815675, 0.87001215, 0.97861834],\n",
       "       [0.79915856, 0.46147936, 0.78052918, 0.11827443],\n",
       "       [0.63992102, 0.14335329, 0.94466892, 0.52184832],\n",
       "       [0.41466194, 0.26455561, 0.77423369, 0.45615033],\n",
       "       [0.56843395, 0.0187898 , 0.6176355 , 0.61209572],\n",
       "       [0.616934  , 0.94374808, 0.6818203 , 0.3595079 ],\n",
       "       [0.43703195, 0.6976312 , 0.06022547, 0.66676672]])"
      ]
     },
     "execution_count": 26,
     "metadata": {},
     "output_type": "execute_result"
    }
   ],
   "source": [
    "random_array_6 = np.random.random(size=(7, 4))\n",
    "random_array_6"
   ]
  },
  {
   "cell_type": "markdown",
   "id": "dfe79905-f079-4808-af13-4b0212c21159",
   "metadata": {},
   "source": [
    "## 3. Viewing arrays and matices"
   ]
  },
  {
   "cell_type": "code",
   "execution_count": 27,
   "id": "0122623f-ec06-464d-a6b3-5674ee58d914",
   "metadata": {},
   "outputs": [
    {
     "data": {
      "text/plain": [
       "array([0.0187898 , 0.06022547, 0.11827443, 0.14335329, 0.26455561,\n",
       "       0.3595079 , 0.41466194, 0.43703195, 0.45615033, 0.46147936,\n",
       "       0.52184832, 0.56843395, 0.61209572, 0.616934  , 0.6176355 ,\n",
       "       0.63992102, 0.66676672, 0.6818203 , 0.6976312 , 0.77423369,\n",
       "       0.77815675, 0.78052918, 0.79915856, 0.83261985, 0.87001215,\n",
       "       0.94374808, 0.94466892, 0.97861834])"
      ]
     },
     "execution_count": 27,
     "metadata": {},
     "output_type": "execute_result"
    }
   ],
   "source": [
    "np.unique(random_array_6)"
   ]
  },
  {
   "cell_type": "code",
   "execution_count": 28,
   "id": "a275df2e-9b36-4b6b-a41e-dd488dea3a8d",
   "metadata": {},
   "outputs": [
    {
     "data": {
      "text/plain": [
       "array([[[ 1,  2,  3],\n",
       "        [ 4,  5,  6],\n",
       "        [ 7,  8,  9]],\n",
       "\n",
       "       [[10, 11, 12],\n",
       "        [13, 14, 15],\n",
       "        [16, 17, 18]]])"
      ]
     },
     "execution_count": 28,
     "metadata": {},
     "output_type": "execute_result"
    }
   ],
   "source": [
    "a3"
   ]
  },
  {
   "cell_type": "code",
   "execution_count": 29,
   "id": "4c00f505-4972-4488-8160-b9971eeae946",
   "metadata": {},
   "outputs": [
    {
     "data": {
      "text/plain": [
       "array([[[ 1,  2],\n",
       "        [ 4,  5],\n",
       "        [ 7,  8]],\n",
       "\n",
       "       [[10, 11],\n",
       "        [13, 14],\n",
       "        [16, 17]]])"
      ]
     },
     "execution_count": 29,
     "metadata": {},
     "output_type": "execute_result"
    }
   ],
   "source": [
    "a3[:, :, :2]"
   ]
  },
  {
   "cell_type": "markdown",
   "id": "f382bfc1-3d00-4889-a6f4-7259435611ee",
   "metadata": {},
   "source": [
    "## Manipulating & comparing arrays"
   ]
  },
  {
   "cell_type": "markdown",
   "id": "a43f0605-06e7-4328-bda8-a42051a83267",
   "metadata": {},
   "source": [
    "### arthmetic"
   ]
  },
  {
   "cell_type": "code",
   "execution_count": 30,
   "id": "a4fcd746-ad77-4fed-aeeb-3c1cbb10538a",
   "metadata": {},
   "outputs": [
    {
     "data": {
      "text/plain": [
       "array([1, 3, 4])"
      ]
     },
     "execution_count": 30,
     "metadata": {},
     "output_type": "execute_result"
    }
   ],
   "source": [
    "a1"
   ]
  },
  {
   "cell_type": "code",
   "execution_count": 31,
   "id": "0fe62ccf-49ba-4bd9-bcfe-da2a29a8554f",
   "metadata": {},
   "outputs": [
    {
     "data": {
      "text/plain": [
       "array([1., 1., 1.])"
      ]
     },
     "execution_count": 31,
     "metadata": {},
     "output_type": "execute_result"
    }
   ],
   "source": [
    "ones = np.ones(3)\n",
    "ones"
   ]
  },
  {
   "cell_type": "code",
   "execution_count": 32,
   "id": "55d2f9ed-e331-4c5e-9796-94f97b20b956",
   "metadata": {},
   "outputs": [
    {
     "data": {
      "text/plain": [
       "array([0., 2., 3.])"
      ]
     },
     "execution_count": 32,
     "metadata": {},
     "output_type": "execute_result"
    }
   ],
   "source": [
    "a1 - ones"
   ]
  },
  {
   "cell_type": "code",
   "execution_count": 33,
   "id": "2742a95d-479a-47b5-bc96-01e6cb08b277",
   "metadata": {},
   "outputs": [
    {
     "data": {
      "text/plain": [
       "array([2., 4., 5.])"
      ]
     },
     "execution_count": 33,
     "metadata": {},
     "output_type": "execute_result"
    }
   ],
   "source": [
    "a1 + ones"
   ]
  },
  {
   "cell_type": "code",
   "execution_count": 34,
   "id": "62295e49-2392-4ca9-8247-445fde5ac927",
   "metadata": {},
   "outputs": [
    {
     "data": {
      "text/plain": [
       "array([[ 1. ,  6. , 13.2],\n",
       "       [ 4. , 15. , 26. ]])"
      ]
     },
     "execution_count": 34,
     "metadata": {},
     "output_type": "execute_result"
    }
   ],
   "source": [
    "a1 * a2"
   ]
  },
  {
   "cell_type": "code",
   "execution_count": 35,
   "id": "87aa0b37-5b24-4e4e-9e91-096d5bea7bce",
   "metadata": {},
   "outputs": [
    {
     "data": {
      "text/plain": [
       "array([[0. , 1. , 0.7],\n",
       "       [1. , 3. , 4. ]])"
      ]
     },
     "execution_count": 35,
     "metadata": {},
     "output_type": "execute_result"
    }
   ],
   "source": [
    "a1 % a2"
   ]
  },
  {
   "cell_type": "code",
   "execution_count": 36,
   "id": "c8d45689-916d-4c6e-986a-7ac5bfeb7514",
   "metadata": {},
   "outputs": [
    {
     "data": {
      "text/plain": [
       "array([[1.        , 1.5       , 1.21212121],\n",
       "       [0.25      , 0.6       , 0.61538462]])"
      ]
     },
     "execution_count": 36,
     "metadata": {},
     "output_type": "execute_result"
    }
   ],
   "source": [
    "a1 / a2"
   ]
  },
  {
   "cell_type": "code",
   "execution_count": 37,
   "id": "3562307e-3789-4aca-ae07-900588258815",
   "metadata": {},
   "outputs": [
    {
     "data": {
      "text/plain": [
       "array([[1., 1., 1.],\n",
       "       [0., 0., 0.]])"
      ]
     },
     "execution_count": 37,
     "metadata": {},
     "output_type": "execute_result"
    }
   ],
   "source": [
    "a1 // a2"
   ]
  },
  {
   "cell_type": "code",
   "execution_count": 38,
   "id": "143bf721-31d6-464c-826a-7293741887e0",
   "metadata": {},
   "outputs": [
    {
     "data": {
      "text/plain": [
       "array([[ 1.  ,  4.  , 10.89],\n",
       "       [16.  , 25.  , 42.25]])"
      ]
     },
     "execution_count": 38,
     "metadata": {},
     "output_type": "execute_result"
    }
   ],
   "source": [
    "a2 ** 2"
   ]
  },
  {
   "cell_type": "code",
   "execution_count": 39,
   "id": "63724dd5-229a-4791-ba35-97e21ca12f97",
   "metadata": {},
   "outputs": [
    {
     "data": {
      "text/plain": [
       "array([[ 1.  ,  4.  , 10.89],\n",
       "       [16.  , 25.  , 42.25]])"
      ]
     },
     "execution_count": 39,
     "metadata": {},
     "output_type": "execute_result"
    }
   ],
   "source": [
    "np.square(a2)"
   ]
  },
  {
   "cell_type": "code",
   "execution_count": 40,
   "id": "6fc139cf-7b68-4348-8157-3fb0b94cdfbd",
   "metadata": {},
   "outputs": [
    {
     "data": {
      "text/plain": [
       "array([[2., 4., 5.],\n",
       "       [2., 4., 5.]])"
      ]
     },
     "execution_count": 40,
     "metadata": {},
     "output_type": "execute_result"
    }
   ],
   "source": [
    "a1 + onces"
   ]
  },
  {
   "cell_type": "code",
   "execution_count": 41,
   "id": "a4bde8eb-2316-4f7d-8c62-3acbcc2d9711",
   "metadata": {},
   "outputs": [
    {
     "data": {
      "text/plain": [
       "array([[2., 4., 5.],\n",
       "       [2., 4., 5.]])"
      ]
     },
     "execution_count": 41,
     "metadata": {},
     "output_type": "execute_result"
    }
   ],
   "source": [
    "np.add(a1, onces)"
   ]
  },
  {
   "cell_type": "code",
   "execution_count": 42,
   "id": "ed2b9a96-8551-4a0a-b5e0-f97bdf796b3c",
   "metadata": {},
   "outputs": [
    {
     "data": {
      "text/plain": [
       "array([[1. , 0. , 1.3],\n",
       "       [0. , 1. , 0.5]])"
      ]
     },
     "execution_count": 42,
     "metadata": {},
     "output_type": "execute_result"
    }
   ],
   "source": [
    "a2 % 2"
   ]
  },
  {
   "cell_type": "code",
   "execution_count": 43,
   "id": "9cbab39f-ad96-4b72-9ec6-3d8628dcee4d",
   "metadata": {},
   "outputs": [
    {
     "data": {
      "text/plain": [
       "array([ 2.71828183, 20.08553692, 54.59815003])"
      ]
     },
     "execution_count": 43,
     "metadata": {},
     "output_type": "execute_result"
    }
   ],
   "source": [
    "np.exp(a1)"
   ]
  },
  {
   "cell_type": "code",
   "execution_count": 44,
   "id": "33d2fcf0-69b7-46a3-ab96-33e19a637d34",
   "metadata": {},
   "outputs": [
    {
     "data": {
      "text/plain": [
       "array([ 2.71828183, 20.08553692, 54.59815003])"
      ]
     },
     "execution_count": 44,
     "metadata": {},
     "output_type": "execute_result"
    }
   ],
   "source": [
    "np.exp(a1)"
   ]
  },
  {
   "cell_type": "code",
   "execution_count": 45,
   "id": "38b1fc9e-232b-4c14-8fda-33e5ab256c1e",
   "metadata": {},
   "outputs": [
    {
     "data": {
      "text/plain": [
       "array([0.        , 1.09861229, 1.38629436])"
      ]
     },
     "execution_count": 45,
     "metadata": {},
     "output_type": "execute_result"
    }
   ],
   "source": [
    "np.log(a1)"
   ]
  },
  {
   "cell_type": "markdown",
   "id": "f39c16ae-2719-4ad8-9a79-f98c80e7edd0",
   "metadata": {},
   "source": [
    "### Aggregation\n",
    "Aggregation = performing the same operation on a number of things"
   ]
  },
  {
   "cell_type": "code",
   "execution_count": 46,
   "id": "7c6019b8-c4b5-4b08-8551-6aef33a2433e",
   "metadata": {},
   "outputs": [
    {
     "data": {
      "text/plain": [
       "list"
      ]
     },
     "execution_count": 46,
     "metadata": {},
     "output_type": "execute_result"
    }
   ],
   "source": [
    "listy_list = [1, 2, 3]\n",
    "type(listy_list)"
   ]
  },
  {
   "cell_type": "code",
   "execution_count": 47,
   "id": "d306f0c3-ce46-4f86-a46b-cc8df26df1b6",
   "metadata": {},
   "outputs": [
    {
     "data": {
      "text/plain": [
       "6"
      ]
     },
     "execution_count": 47,
     "metadata": {},
     "output_type": "execute_result"
    }
   ],
   "source": [
    "sum(listy_list)"
   ]
  },
  {
   "cell_type": "code",
   "execution_count": 48,
   "id": "3f7e5dd0-2218-4258-af34-3202232edaf0",
   "metadata": {},
   "outputs": [
    {
     "data": {
      "text/plain": [
       "np.int64(8)"
      ]
     },
     "execution_count": 48,
     "metadata": {},
     "output_type": "execute_result"
    }
   ],
   "source": [
    "sum(a1)"
   ]
  },
  {
   "cell_type": "code",
   "execution_count": 49,
   "id": "e51a2743-94ab-4d18-8f7c-8a415464aba5",
   "metadata": {},
   "outputs": [
    {
     "data": {
      "text/plain": [
       "np.int64(8)"
      ]
     },
     "execution_count": 49,
     "metadata": {},
     "output_type": "execute_result"
    }
   ],
   "source": [
    "np.sum(a1)"
   ]
  },
  {
   "cell_type": "markdown",
   "id": "9b33379e-bc82-4638-866c-cef71af87cfb",
   "metadata": {},
   "source": [
    "use Python's methods (`sum()`) on Python dataypes and use NumPy's methods on NumPy arrays (`np.sum()`)."
   ]
  },
  {
   "cell_type": "code",
   "execution_count": 50,
   "id": "fb5e5595-0f4b-4f4d-9cd1-60b4871a08c9",
   "metadata": {},
   "outputs": [
    {
     "ename": "NameError",
     "evalue": "name 'massive_array' is not defined",
     "output_type": "error",
     "traceback": [
      "\u001b[31m---------------------------------------------------------------------------\u001b[39m",
      "\u001b[31mNameError\u001b[39m                                 Traceback (most recent call last)",
      "\u001b[36mCell\u001b[39m\u001b[36m \u001b[39m\u001b[32mIn[50]\u001b[39m\u001b[32m, line 1\u001b[39m\n\u001b[32m----> \u001b[39m\u001b[32m1\u001b[39m massive_array[:\u001b[32m10\u001b[39m]\n",
      "\u001b[31mNameError\u001b[39m: name 'massive_array' is not defined"
     ]
    }
   ],
   "source": [
    "massive_array[:10]"
   ]
  },
  {
   "cell_type": "code",
   "execution_count": null,
   "id": "01d812c3-f34e-4138-86cb-afb5b2e238a6",
   "metadata": {},
   "outputs": [],
   "source": [
    "np.mean(a2)"
   ]
  },
  {
   "cell_type": "code",
   "execution_count": null,
   "id": "b4ed10bb-2c01-4480-98de-4d6355bca078",
   "metadata": {},
   "outputs": [],
   "source": [
    "np.max(a2)"
   ]
  },
  {
   "cell_type": "code",
   "execution_count": null,
   "id": "8cfb0de2-9661-41bb-addf-8e0a5509306a",
   "metadata": {},
   "outputs": [],
   "source": [
    "print(np.__version__)"
   ]
  },
  {
   "cell_type": "code",
   "execution_count": null,
   "id": "1cd6609c-4686-425a-a365-53db4faa36f2",
   "metadata": {},
   "outputs": [],
   "source": [
    "np.min(a2)"
   ]
  },
  {
   "cell_type": "code",
   "execution_count": null,
   "id": "30d02280-f47a-455c-8431-4ad71ba1e482",
   "metadata": {},
   "outputs": [],
   "source": [
    "# standerd deviation = a measure of how spread out a grorp of numebrs is \n",
    "np.std(a2)"
   ]
  },
  {
   "cell_type": "code",
   "execution_count": null,
   "id": "e131c688-1870-429b-972e-41b13acfe753",
   "metadata": {},
   "outputs": [],
   "source": [
    "# Variance = measure of the average degree to which each number is defferent\n",
    "# Higher variace = wider range of numbers\n",
    "# Lower variance = Lower range of numbers\n",
    "np.var(a2)"
   ]
  },
  {
   "cell_type": "code",
   "execution_count": null,
   "id": "ab231f28-53b3-4667-ab0e-1c94aa334e7e",
   "metadata": {},
   "outputs": [],
   "source": [
    "# Standard deviation = sqareroot of variance\n",
    "np.sqrt(np.var(a2))"
   ]
  },
  {
   "cell_type": "code",
   "execution_count": null,
   "id": "14ed0298-bd3f-4044-9452-d5bab199a76b",
   "metadata": {},
   "outputs": [],
   "source": [
    "# Demo of std and var\n",
    "high_var_array = np.array([1, 100, 200, 300, 4000, 5000])\n",
    "low_var_array = np.array([2, 4, 6, 8, 10])"
   ]
  },
  {
   "cell_type": "code",
   "execution_count": null,
   "id": "d092a880-d1ee-4618-a08a-42dc4fcd7d11",
   "metadata": {},
   "outputs": [],
   "source": [
    "np.var(high_var_array), np.var(low_var_array)"
   ]
  },
  {
   "cell_type": "code",
   "execution_count": null,
   "id": "abd3cdeb-1f28-4202-91b0-9041918e8f99",
   "metadata": {},
   "outputs": [],
   "source": [
    "np.std(high_var_array), np.std(low_var_array)"
   ]
  },
  {
   "cell_type": "code",
   "execution_count": null,
   "id": "d5b5c528-43fb-4984-9067-07882ccf920a",
   "metadata": {},
   "outputs": [],
   "source": [
    "np.mean(high_var_array), np.mean(low_var_array)"
   ]
  },
  {
   "cell_type": "code",
   "execution_count": 51,
   "id": "bf2a15a5-6f28-4275-a530-6b681604bd40",
   "metadata": {},
   "outputs": [
    {
     "ename": "NameError",
     "evalue": "name 'high_var_array' is not defined",
     "output_type": "error",
     "traceback": [
      "\u001b[31m---------------------------------------------------------------------------\u001b[39m",
      "\u001b[31mNameError\u001b[39m                                 Traceback (most recent call last)",
      "\u001b[36mCell\u001b[39m\u001b[36m \u001b[39m\u001b[32mIn[51]\u001b[39m\u001b[32m, line 1\u001b[39m\n\u001b[32m----> \u001b[39m\u001b[32m1\u001b[39m np.std(high_var_array).plot\n",
      "\u001b[31mNameError\u001b[39m: name 'high_var_array' is not defined"
     ]
    }
   ],
   "source": [
    "np.std(high_var_array).plot"
   ]
  },
  {
   "cell_type": "code",
   "execution_count": 52,
   "id": "f8de3c40-d2b2-4967-ae47-478d20297c75",
   "metadata": {},
   "outputs": [
    {
     "ename": "NameError",
     "evalue": "name 'high_var_array' is not defined",
     "output_type": "error",
     "traceback": [
      "\u001b[31m---------------------------------------------------------------------------\u001b[39m",
      "\u001b[31mNameError\u001b[39m                                 Traceback (most recent call last)",
      "\u001b[36mCell\u001b[39m\u001b[36m \u001b[39m\u001b[32mIn[52]\u001b[39m\u001b[32m, line 3\u001b[39m\n\u001b[32m      1\u001b[39m get_ipython().run_line_magic(\u001b[33m'\u001b[39m\u001b[33mmatplotlib\u001b[39m\u001b[33m'\u001b[39m, \u001b[33m'\u001b[39m\u001b[33minline\u001b[39m\u001b[33m'\u001b[39m)\n\u001b[32m      2\u001b[39m \u001b[38;5;28;01mimport\u001b[39;00m\u001b[38;5;250m \u001b[39m\u001b[34;01mmatplotlib\u001b[39;00m\u001b[34;01m.\u001b[39;00m\u001b[34;01mpyplot\u001b[39;00m\u001b[38;5;250m \u001b[39m\u001b[38;5;28;01mas\u001b[39;00m\u001b[38;5;250m \u001b[39m\u001b[34;01mplt\u001b[39;00m\n\u001b[32m----> \u001b[39m\u001b[32m3\u001b[39m plt.hist(high_var_array)\n\u001b[32m      4\u001b[39m plt.show()\n",
      "\u001b[31mNameError\u001b[39m: name 'high_var_array' is not defined"
     ]
    }
   ],
   "source": [
    "%matplotlib inline\n",
    "import matplotlib.pyplot as plt\n",
    "plt.hist(high_var_array)\n",
    "plt.show()"
   ]
  },
  {
   "cell_type": "code",
   "execution_count": null,
   "id": "8bd573c4-310a-4772-b63e-a86e68ea8f20",
   "metadata": {},
   "outputs": [],
   "source": [
    "plt.hist(low_var_array)\n",
    "plt.show()"
   ]
  },
  {
   "cell_type": "markdown",
   "id": "33377bfc-0b93-44ac-848e-ae60d21504f7",
   "metadata": {},
   "source": [
    "### Reshaping && transposing"
   ]
  },
  {
   "cell_type": "code",
   "execution_count": null,
   "id": "87a64e20-42f6-408c-aaa3-67e574b0e128",
   "metadata": {},
   "outputs": [],
   "source": [
    "a2"
   ]
  },
  {
   "cell_type": "code",
   "execution_count": null,
   "id": "a2a8377f-fd76-4cec-b8a5-7d180c4d409d",
   "metadata": {},
   "outputs": [],
   "source": [
    "a2 * a3"
   ]
  },
  {
   "cell_type": "code",
   "execution_count": null,
   "id": "7ee83302-d211-4ea1-8c0e-ef180ca0a54c",
   "metadata": {},
   "outputs": [],
   "source": [
    "a2.shape"
   ]
  },
  {
   "cell_type": "code",
   "execution_count": null,
   "id": "4d9bcd02-aa52-403e-9244-483049950c47",
   "metadata": {},
   "outputs": [],
   "source": [
    "a2.reshape(2, 3)"
   ]
  },
  {
   "cell_type": "code",
   "execution_count": null,
   "id": "e4bb0964-10ec-43a8-ab9b-9d7f27eff083",
   "metadata": {},
   "outputs": [],
   "source": [
    "a3.reshape(2, 3, 1)"
   ]
  },
  {
   "cell_type": "code",
   "execution_count": null,
   "id": "c63ea8ef-2db5-4103-b5f2-05b46ecd15cb",
   "metadata": {},
   "outputs": [],
   "source": [
    "a2, a2.shape, a3, a3.shape"
   ]
  },
  {
   "cell_type": "code",
   "execution_count": null,
   "id": "c179493d-1228-49e1-a1fa-08383019fdde",
   "metadata": {},
   "outputs": [],
   "source": [
    "a2_reshaped = a2.reshape(2, 3, 1)"
   ]
  },
  {
   "cell_type": "code",
   "execution_count": null,
   "id": "343e04ce-ca0c-49a3-835a-5e7def93484a",
   "metadata": {},
   "outputs": [],
   "source": [
    "a2_reshaped * a3"
   ]
  },
  {
   "cell_type": "code",
   "execution_count": null,
   "id": "6d2ba296-cd97-45e1-ab1b-f18500f47254",
   "metadata": {},
   "outputs": [],
   "source": [
    "a2"
   ]
  },
  {
   "cell_type": "code",
   "execution_count": 53,
   "id": "4c305989-5321-47bf-99f1-4e4441986586",
   "metadata": {},
   "outputs": [
    {
     "data": {
      "text/plain": [
       "(2, 3)"
      ]
     },
     "execution_count": 53,
     "metadata": {},
     "output_type": "execute_result"
    }
   ],
   "source": [
    "a2.shape"
   ]
  },
  {
   "cell_type": "code",
   "execution_count": 54,
   "id": "b2b2f374-5270-491c-aaff-48ef0577ba6d",
   "metadata": {},
   "outputs": [
    {
     "data": {
      "text/plain": [
       "array([[1. , 4. ],\n",
       "       [2. , 5. ],\n",
       "       [3.3, 6.5]])"
      ]
     },
     "execution_count": 54,
     "metadata": {},
     "output_type": "execute_result"
    }
   ],
   "source": [
    "a2.T"
   ]
  },
  {
   "cell_type": "code",
   "execution_count": 55,
   "id": "550a6ca5-06df-48d4-bc84-b10cb2ec8ebd",
   "metadata": {},
   "outputs": [
    {
     "data": {
      "text/plain": [
       "(3, 2)"
      ]
     },
     "execution_count": 55,
     "metadata": {},
     "output_type": "execute_result"
    }
   ],
   "source": [
    "a2.T.shape"
   ]
  },
  {
   "cell_type": "code",
   "execution_count": 56,
   "id": "571ee18a-74be-4e37-880f-70cab68f0f4b",
   "metadata": {},
   "outputs": [
    {
     "data": {
      "text/plain": [
       "array([[[ 1,  2,  3],\n",
       "        [ 4,  5,  6],\n",
       "        [ 7,  8,  9]],\n",
       "\n",
       "       [[10, 11, 12],\n",
       "        [13, 14, 15],\n",
       "        [16, 17, 18]]])"
      ]
     },
     "execution_count": 56,
     "metadata": {},
     "output_type": "execute_result"
    }
   ],
   "source": [
    "a3"
   ]
  },
  {
   "cell_type": "code",
   "execution_count": 57,
   "id": "e2b514c4-9669-4831-88c4-17c335181034",
   "metadata": {},
   "outputs": [
    {
     "data": {
      "text/plain": [
       "(2, 3, 3)"
      ]
     },
     "execution_count": 57,
     "metadata": {},
     "output_type": "execute_result"
    }
   ],
   "source": [
    "a3.shape"
   ]
  },
  {
   "cell_type": "code",
   "execution_count": 58,
   "id": "125be9f7-192d-4ce4-bd55-a050c2654a98",
   "metadata": {},
   "outputs": [
    {
     "data": {
      "text/plain": [
       "array([[[ 1, 10],\n",
       "        [ 4, 13],\n",
       "        [ 7, 16]],\n",
       "\n",
       "       [[ 2, 11],\n",
       "        [ 5, 14],\n",
       "        [ 8, 17]],\n",
       "\n",
       "       [[ 3, 12],\n",
       "        [ 6, 15],\n",
       "        [ 9, 18]]])"
      ]
     },
     "execution_count": 58,
     "metadata": {},
     "output_type": "execute_result"
    }
   ],
   "source": [
    "a3.T"
   ]
  },
  {
   "cell_type": "code",
   "execution_count": 59,
   "id": "0fc624f2-290a-4ed5-b806-a89dcb93bb7c",
   "metadata": {},
   "outputs": [
    {
     "data": {
      "text/html": [
       "<div>\n",
       "<style scoped>\n",
       "    .dataframe tbody tr th:only-of-type {\n",
       "        vertical-align: middle;\n",
       "    }\n",
       "\n",
       "    .dataframe tbody tr th {\n",
       "        vertical-align: top;\n",
       "    }\n",
       "\n",
       "    .dataframe thead th {\n",
       "        text-align: right;\n",
       "    }\n",
       "</style>\n",
       "<table border=\"1\" class=\"dataframe\">\n",
       "  <thead>\n",
       "    <tr style=\"text-align: right;\">\n",
       "      <th></th>\n",
       "      <th>0</th>\n",
       "      <th>1</th>\n",
       "    </tr>\n",
       "  </thead>\n",
       "  <tbody>\n",
       "    <tr>\n",
       "      <th>0</th>\n",
       "      <td>1.0</td>\n",
       "      <td>4.0</td>\n",
       "    </tr>\n",
       "    <tr>\n",
       "      <th>1</th>\n",
       "      <td>2.0</td>\n",
       "      <td>5.0</td>\n",
       "    </tr>\n",
       "    <tr>\n",
       "      <th>2</th>\n",
       "      <td>3.3</td>\n",
       "      <td>6.5</td>\n",
       "    </tr>\n",
       "  </tbody>\n",
       "</table>\n",
       "</div>"
      ],
      "text/plain": [
       "     0    1\n",
       "0  1.0  4.0\n",
       "1  2.0  5.0\n",
       "2  3.3  6.5"
      ]
     },
     "execution_count": 59,
     "metadata": {},
     "output_type": "execute_result"
    }
   ],
   "source": [
    "import pandas as pd\n",
    "table = pd.DataFrame(a2.T)\n",
    "table"
   ]
  },
  {
   "cell_type": "code",
   "execution_count": 60,
   "id": "e4285970-1d60-4a01-8614-e2b318615c02",
   "metadata": {},
   "outputs": [
    {
     "data": {
      "text/html": [
       "<div>\n",
       "<style scoped>\n",
       "    .dataframe tbody tr th:only-of-type {\n",
       "        vertical-align: middle;\n",
       "    }\n",
       "\n",
       "    .dataframe tbody tr th {\n",
       "        vertical-align: top;\n",
       "    }\n",
       "\n",
       "    .dataframe thead th {\n",
       "        text-align: right;\n",
       "    }\n",
       "</style>\n",
       "<table border=\"1\" class=\"dataframe\">\n",
       "  <thead>\n",
       "    <tr style=\"text-align: right;\">\n",
       "      <th></th>\n",
       "      <th>0</th>\n",
       "      <th>1</th>\n",
       "      <th>2</th>\n",
       "    </tr>\n",
       "  </thead>\n",
       "  <tbody>\n",
       "    <tr>\n",
       "      <th>0</th>\n",
       "      <td>1.0</td>\n",
       "      <td>2.0</td>\n",
       "      <td>3.3</td>\n",
       "    </tr>\n",
       "    <tr>\n",
       "      <th>1</th>\n",
       "      <td>4.0</td>\n",
       "      <td>5.0</td>\n",
       "      <td>6.5</td>\n",
       "    </tr>\n",
       "  </tbody>\n",
       "</table>\n",
       "</div>"
      ],
      "text/plain": [
       "     0    1    2\n",
       "0  1.0  2.0  3.3\n",
       "1  4.0  5.0  6.5"
      ]
     },
     "execution_count": 60,
     "metadata": {},
     "output_type": "execute_result"
    }
   ],
   "source": [
    "import pandas as pd\n",
    "table = pd.DataFrame(a2)\n",
    "table"
   ]
  },
  {
   "cell_type": "markdown",
   "id": "cfb12e41-29c3-4b0d-b665-d055835f525f",
   "metadata": {},
   "source": [
    "### Dot product"
   ]
  },
  {
   "cell_type": "code",
   "execution_count": 64,
   "id": "022059dc-f5eb-49cc-ba01-b896c60923e6",
   "metadata": {},
   "outputs": [
    {
     "data": {
      "text/plain": [
       "(array([[5, 0, 3],\n",
       "        [3, 7, 9],\n",
       "        [3, 5, 2],\n",
       "        [4, 7, 6],\n",
       "        [8, 8, 1]]),\n",
       " array([[6, 7, 7],\n",
       "        [8, 1, 5],\n",
       "        [9, 8, 9],\n",
       "        [4, 3, 0],\n",
       "        [3, 5, 0]]),\n",
       " (5, 3),\n",
       " (5, 3))"
      ]
     },
     "execution_count": 64,
     "metadata": {},
     "output_type": "execute_result"
    }
   ],
   "source": [
    "np.random.seed(0)\n",
    "\n",
    "mat1 = np.random.randint(10, size=(5, 3))\n",
    "mat2 = np.random.randint(10, size=(5, 3))\n",
    "\n",
    "mat1, mat2, mat1.shape, mat2.shape"
   ]
  },
  {
   "cell_type": "code",
   "execution_count": 65,
   "id": "5ee690eb-84b1-4f1e-870c-0974d1618f83",
   "metadata": {},
   "outputs": [
    {
     "data": {
      "text/plain": [
       "array([[30,  0, 21],\n",
       "       [24,  7, 45],\n",
       "       [27, 40, 18],\n",
       "       [16, 21,  0],\n",
       "       [24, 40,  0]])"
      ]
     },
     "execution_count": 65,
     "metadata": {},
     "output_type": "execute_result"
    }
   ],
   "source": [
    "# Element-wise multipieation (Hadamard produet)\n",
    "mat1 * mat2"
   ]
  },
  {
   "cell_type": "code",
   "execution_count": 68,
   "id": "1ed1dfa6-b9a1-40a2-8a08-0048adf7c548",
   "metadata": {},
   "outputs": [
    {
     "data": {
      "text/plain": [
       "array([[121, 114,  77],\n",
       "       [153, 108,  80],\n",
       "       [135,  69,  84]])"
      ]
     },
     "execution_count": 68,
     "metadata": {},
     "output_type": "execute_result"
    }
   ],
   "source": [
    "# Dot product\n",
    "np.dot(mat1.T, mat2)"
   ]
  },
  {
   "cell_type": "code",
   "execution_count": null,
   "id": "1ec4b198-6fac-4e61-85f2-54633f977be9",
   "metadata": {},
   "outputs": [],
   "source": []
  }
 ],
 "metadata": {
  "kernelspec": {
   "display_name": "Python 3 (ipykernel)",
   "language": "python",
   "name": "python3"
  },
  "language_info": {
   "codemirror_mode": {
    "name": "ipython",
    "version": 3
   },
   "file_extension": ".py",
   "mimetype": "text/x-python",
   "name": "python",
   "nbconvert_exporter": "python",
   "pygments_lexer": "ipython3",
   "version": "3.13.5"
  }
 },
 "nbformat": 4,
 "nbformat_minor": 5
}
