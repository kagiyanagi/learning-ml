{
 "cells": [
  {
   "cell_type": "code",
   "execution_count": 3,
   "id": "12a22222-cfd4-4fea-86ee-fe28242feafb",
   "metadata": {},
   "outputs": [],
   "source": [
    "#NumPY\n",
    "import numpy as np"
   ]
  },
  {
   "cell_type": "markdown",
   "id": "b770828b-01da-4f1d-9b58-a78dce4bf62b",
   "metadata": {},
   "source": [
    "# DataTypes & Attributes"
   ]
  },
  {
   "cell_type": "code",
   "execution_count": 4,
   "id": "42394681-b630-4618-8759-fa5447ef46f5",
   "metadata": {},
   "outputs": [
    {
     "data": {
      "text/plain": [
       "array([1, 3, 4])"
      ]
     },
     "execution_count": 4,
     "metadata": {},
     "output_type": "execute_result"
    }
   ],
   "source": [
    "# numpy's main datatypes in ndarray\n",
    "a1 = np.array([1,3,4])\n",
    "a1"
   ]
  },
  {
   "cell_type": "code",
   "execution_count": 7,
   "id": "85b44273-8d71-460e-a5bd-6e5111a84375",
   "metadata": {},
   "outputs": [
    {
     "data": {
      "text/plain": [
       "numpy.ndarray"
      ]
     },
     "execution_count": 7,
     "metadata": {},
     "output_type": "execute_result"
    }
   ],
   "source": [
    "type(a1)"
   ]
  },
  {
   "cell_type": "code",
   "execution_count": 5,
   "id": "9e8bcd27-d66a-404c-bac3-6b970bd51f97",
   "metadata": {},
   "outputs": [],
   "source": [
    "a2 = np.array([[1,2.0,3.3],\n",
    "               [4, 5,6.5]])\n",
    "\n",
    "a3 = np.array([[[1, 2, 3],\n",
    "                [4, 5, 6],\n",
    "                [7, 8, 9]],\n",
    "               [[10, 11, 12],\n",
    "                [13, 14, 15],\n",
    "                [16, 17, 18]]])"
   ]
  },
  {
   "cell_type": "code",
   "execution_count": 9,
   "id": "1d78f05e-9d17-41b0-a397-e089c7368b6c",
   "metadata": {},
   "outputs": [
    {
     "data": {
      "text/plain": [
       "array([[[ 1,  2,  3],\n",
       "        [ 4,  5,  6],\n",
       "        [ 7,  8,  9]],\n",
       "\n",
       "       [[10, 11, 12],\n",
       "        [13, 14, 15],\n",
       "        [16, 17, 18]]])"
      ]
     },
     "execution_count": 9,
     "metadata": {},
     "output_type": "execute_result"
    }
   ],
   "source": [
    "a2\n",
    "a3"
   ]
  },
  {
   "cell_type": "code",
   "execution_count": 20,
   "id": "7dae2e62-6f1e-4568-a15e-a8b4b54c6f24",
   "metadata": {},
   "outputs": [
    {
     "data": {
      "text/plain": [
       "(3,)"
      ]
     },
     "execution_count": 20,
     "metadata": {},
     "output_type": "execute_result"
    }
   ],
   "source": [
    "a1.shape"
   ]
  },
  {
   "cell_type": "code",
   "execution_count": 21,
   "id": "1b3e0096-f746-4d50-9919-efab06e194e6",
   "metadata": {},
   "outputs": [
    {
     "data": {
      "text/plain": [
       "(2, 3)"
      ]
     },
     "execution_count": 21,
     "metadata": {},
     "output_type": "execute_result"
    }
   ],
   "source": [
    "a2.shape"
   ]
  },
  {
   "cell_type": "code",
   "execution_count": 22,
   "id": "f0010f1d-5e8c-471b-b68d-f6126a63994e",
   "metadata": {},
   "outputs": [
    {
     "data": {
      "text/plain": [
       "(2, 3, 3)"
      ]
     },
     "execution_count": 22,
     "metadata": {},
     "output_type": "execute_result"
    }
   ],
   "source": [
    "a3.shape"
   ]
  },
  {
   "cell_type": "code",
   "execution_count": 23,
   "id": "20d36abf-9a2d-4cca-a99d-de9d575848d7",
   "metadata": {},
   "outputs": [
    {
     "data": {
      "text/plain": [
       "(1, 2, 3)"
      ]
     },
     "execution_count": 23,
     "metadata": {},
     "output_type": "execute_result"
    }
   ],
   "source": [
    "a1.ndim, a2.ndim, a3.ndim"
   ]
  },
  {
   "cell_type": "code",
   "execution_count": 10,
   "id": "2ca3f630-ab12-45fb-8259-7281966d7fb9",
   "metadata": {},
   "outputs": [
    {
     "data": {
      "text/plain": [
       "dtype('int64')"
      ]
     },
     "execution_count": 10,
     "metadata": {},
     "output_type": "execute_result"
    }
   ],
   "source": [
    "a1.dtype"
   ]
  },
  {
   "cell_type": "code",
   "execution_count": 11,
   "id": "ed168b5b-2195-4125-8e51-67a852393921",
   "metadata": {},
   "outputs": [
    {
     "data": {
      "text/plain": [
       "3"
      ]
     },
     "execution_count": 11,
     "metadata": {},
     "output_type": "execute_result"
    }
   ],
   "source": [
    "a1.size"
   ]
  },
  {
   "cell_type": "code",
   "execution_count": 6,
   "id": "11ddc5cf-0422-45f8-8603-fb74f925e097",
   "metadata": {},
   "outputs": [
    {
     "data": {
      "text/html": [
       "<div>\n",
       "<style scoped>\n",
       "    .dataframe tbody tr th:only-of-type {\n",
       "        vertical-align: middle;\n",
       "    }\n",
       "\n",
       "    .dataframe tbody tr th {\n",
       "        vertical-align: top;\n",
       "    }\n",
       "\n",
       "    .dataframe thead th {\n",
       "        text-align: right;\n",
       "    }\n",
       "</style>\n",
       "<table border=\"1\" class=\"dataframe\">\n",
       "  <thead>\n",
       "    <tr style=\"text-align: right;\">\n",
       "      <th></th>\n",
       "      <th>0</th>\n",
       "      <th>1</th>\n",
       "      <th>2</th>\n",
       "    </tr>\n",
       "  </thead>\n",
       "  <tbody>\n",
       "    <tr>\n",
       "      <th>0</th>\n",
       "      <td>1.0</td>\n",
       "      <td>2.0</td>\n",
       "      <td>3.3</td>\n",
       "    </tr>\n",
       "    <tr>\n",
       "      <th>1</th>\n",
       "      <td>4.0</td>\n",
       "      <td>5.0</td>\n",
       "      <td>6.5</td>\n",
       "    </tr>\n",
       "  </tbody>\n",
       "</table>\n",
       "</div>"
      ],
      "text/plain": [
       "     0    1    2\n",
       "0  1.0  2.0  3.3\n",
       "1  4.0  5.0  6.5"
      ]
     },
     "execution_count": 6,
     "metadata": {},
     "output_type": "execute_result"
    }
   ],
   "source": [
    "# Create a DtaFrame from a numpy array\n",
    "import pandas as pd\n",
    "\n",
    "df = pd.DataFrame(a2)\n",
    "df"
   ]
  },
  {
   "cell_type": "code",
   "execution_count": 16,
   "id": "c9866dd4-a11f-4e1f-8596-e9da3e8adacc",
   "metadata": {},
   "outputs": [],
   "source": [
    "semple_array = np.array([1,2,3])"
   ]
  },
  {
   "cell_type": "markdown",
   "id": "d891cf93-a825-46c2-82de-339cba742acd",
   "metadata": {},
   "source": [
    "## 2. Creating arrays"
   ]
  },
  {
   "cell_type": "code",
   "execution_count": 17,
   "id": "9c54f4d2-e622-4f1e-9f69-30c5716d596a",
   "metadata": {},
   "outputs": [
    {
     "data": {
      "text/plain": [
       "array([1, 2, 3])"
      ]
     },
     "execution_count": 17,
     "metadata": {},
     "output_type": "execute_result"
    }
   ],
   "source": [
    "sample_array = np.array([1, 2, 3])\n",
    "sample_array"
   ]
  },
  {
   "cell_type": "code",
   "execution_count": 18,
   "id": "10809395-56ed-4dd3-97e2-4798df1703be",
   "metadata": {},
   "outputs": [
    {
     "data": {
      "text/plain": [
       "dtype('int64')"
      ]
     },
     "execution_count": 18,
     "metadata": {},
     "output_type": "execute_result"
    }
   ],
   "source": [
    "sample_array.dtype"
   ]
  },
  {
   "cell_type": "code",
   "execution_count": 19,
   "id": "bb071f63-fd28-4ae9-ae31-a1738f4cb447",
   "metadata": {},
   "outputs": [],
   "source": [
    "onces = np.ones((2, 3))"
   ]
  },
  {
   "cell_type": "code",
   "execution_count": 20,
   "id": "a2ce2bb6-d3dc-4b52-9919-ed4a7422c39f",
   "metadata": {},
   "outputs": [
    {
     "data": {
      "text/plain": [
       "array([[1., 1., 1.],\n",
       "       [1., 1., 1.]])"
      ]
     },
     "execution_count": 20,
     "metadata": {},
     "output_type": "execute_result"
    }
   ],
   "source": [
    "onces"
   ]
  },
  {
   "cell_type": "code",
   "execution_count": 25,
   "id": "d4fc1ec3-85b0-4de0-80e5-9ea7fd11aa0d",
   "metadata": {},
   "outputs": [
    {
     "data": {
      "text/plain": [
       "numpy.ndarray"
      ]
     },
     "execution_count": 25,
     "metadata": {},
     "output_type": "execute_result"
    }
   ],
   "source": [
    "onces.dtype\n",
    "type(onces)"
   ]
  },
  {
   "cell_type": "code",
   "execution_count": 27,
   "id": "175d2c1f-19d4-4eef-a510-c8b525e81549",
   "metadata": {},
   "outputs": [
    {
     "data": {
      "text/plain": [
       "array([[0., 0., 0.],\n",
       "       [0., 0., 0.]])"
      ]
     },
     "execution_count": 27,
     "metadata": {},
     "output_type": "execute_result"
    }
   ],
   "source": [
    "zeros = np.zeros((2, 3))\n",
    "zeros"
   ]
  },
  {
   "cell_type": "code",
   "execution_count": 28,
   "id": "2eb1cf77-ad19-413e-8feb-914c3a8c1493",
   "metadata": {},
   "outputs": [
    {
     "data": {
      "text/plain": [
       "array([0, 2, 4, 6, 8])"
      ]
     },
     "execution_count": 28,
     "metadata": {},
     "output_type": "execute_result"
    }
   ],
   "source": [
    "range_array = np.arange(0, 10, 2)\n",
    "range_array"
   ]
  },
  {
   "cell_type": "code",
   "execution_count": 9,
   "id": "b9a2f444-4754-48e3-881f-34e968031344",
   "metadata": {},
   "outputs": [
    {
     "data": {
      "text/plain": [
       "array([[1, 0, 6, 1, 3],\n",
       "       [9, 8, 1, 8, 3],\n",
       "       [4, 5, 2, 7, 4]])"
      ]
     },
     "execution_count": 9,
     "metadata": {},
     "output_type": "execute_result"
    }
   ],
   "source": [
    "range_array = np.random.randint(0, 10, size=(3, 5))\n",
    "range_array"
   ]
  },
  {
   "cell_type": "code",
   "execution_count": 11,
   "id": "0c1ca1a1-c0a7-46be-8140-0aa763ecc4c6",
   "metadata": {},
   "outputs": [
    {
     "data": {
      "text/plain": [
       "(3, 5)"
      ]
     },
     "execution_count": 11,
     "metadata": {},
     "output_type": "execute_result"
    }
   ],
   "source": [
    "range_array.shape"
   ]
  },
  {
   "cell_type": "code",
   "execution_count": 13,
   "id": "7506cd7d-3b16-455c-a484-ecd82eee9c32",
   "metadata": {},
   "outputs": [
    {
     "data": {
      "text/plain": [
       "array([[0.14346312, 0.12099974, 0.54655999],\n",
       "       [0.93223341, 0.6408474 , 0.20459602],\n",
       "       [0.88808183, 0.18452834, 0.26832709],\n",
       "       [0.37131056, 0.06659667, 0.15723619],\n",
       "       [0.30096972, 0.93109149, 0.63647881]])"
      ]
     },
     "execution_count": 13,
     "metadata": {},
     "output_type": "execute_result"
    }
   ],
   "source": [
    "random_array_3 = np.random.rand(5, 3)\n",
    "random_array_3"
   ]
  },
  {
   "cell_type": "code",
   "execution_count": 15,
   "id": "2a9a6fa4-9fe5-473c-b8bd-699542341a66",
   "metadata": {},
   "outputs": [
    {
     "data": {
      "text/plain": [
       "(5, 3)"
      ]
     },
     "execution_count": 15,
     "metadata": {},
     "output_type": "execute_result"
    }
   ],
   "source": [
    "random_array_3.shape"
   ]
  },
  {
   "cell_type": "code",
   "execution_count": 43,
   "id": "ad39ae01-5acf-4d27-84a2-1703691c2f5f",
   "metadata": {},
   "outputs": [
    {
     "data": {
      "text/plain": [
       "array([[44, 47, 64, 67],\n",
       "       [67,  9, 83, 21],\n",
       "       [36, 87, 70, 88],\n",
       "       [88, 12, 58, 65],\n",
       "       [39, 87, 46, 88],\n",
       "       [81, 37, 25, 77],\n",
       "       [72,  9, 20, 80]])"
      ]
     },
     "execution_count": 43,
     "metadata": {},
     "output_type": "execute_result"
    }
   ],
   "source": [
    "# Pseudo-random numebrs\n",
    "np.random.seed(seed=0)\n",
    "random_array = np.random.randint(99, size=(7, 4))\n",
    "random_array"
   ]
  },
  {
   "cell_type": "code",
   "execution_count": 48,
   "id": "7d3d6141-db24-43e6-a928-2f0579c6c1b9",
   "metadata": {},
   "outputs": [
    {
     "data": {
      "text/plain": [
       "array([[0.29007761, 0.61801543, 0.4287687 , 0.13547406],\n",
       "       [0.29828233, 0.56996491, 0.59087276, 0.57432525],\n",
       "       [0.65320082, 0.65210327, 0.43141844, 0.8965466 ],\n",
       "       [0.36756187, 0.43586493, 0.89192336, 0.80619399],\n",
       "       [0.70388858, 0.10022689, 0.91948261, 0.7142413 ],\n",
       "       [0.99884701, 0.1494483 , 0.86812606, 0.16249293],\n",
       "       [0.61555956, 0.12381998, 0.84800823, 0.80731896]])"
      ]
     },
     "execution_count": 48,
     "metadata": {},
     "output_type": "execute_result"
    }
   ],
   "source": [
    "random_array_6 = np.random.random(size=(7, 4))\n",
    "random_array_6"
   ]
  },
  {
   "cell_type": "code",
   "execution_count": null,
   "id": "2023c8f3-00d0-4fe5-aece-e856bfe144ee",
   "metadata": {},
   "outputs": [],
   "source": []
  }
 ],
 "metadata": {
  "kernelspec": {
   "display_name": "Python 3 (ipykernel)",
   "language": "python",
   "name": "python3"
  },
  "language_info": {
   "codemirror_mode": {
    "name": "ipython",
    "version": 3
   },
   "file_extension": ".py",
   "mimetype": "text/x-python",
   "name": "python",
   "nbconvert_exporter": "python",
   "pygments_lexer": "ipython3",
   "version": "3.13.5"
  }
 },
 "nbformat": 4,
 "nbformat_minor": 5
}
