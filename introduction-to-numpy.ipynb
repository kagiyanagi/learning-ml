{
 "cells": [
  {
   "cell_type": "code",
   "execution_count": 2,
   "id": "12a22222-cfd4-4fea-86ee-fe28242feafb",
   "metadata": {},
   "outputs": [],
   "source": [
    "#NumPY\n",
    "import numpy as np"
   ]
  },
  {
   "cell_type": "markdown",
   "id": "b770828b-01da-4f1d-9b58-a78dce4bf62b",
   "metadata": {},
   "source": [
    "# DataTypes & Attributes"
   ]
  },
  {
   "cell_type": "code",
   "execution_count": 3,
   "id": "42394681-b630-4618-8759-fa5447ef46f5",
   "metadata": {},
   "outputs": [
    {
     "data": {
      "text/plain": [
       "array([1, 3, 4])"
      ]
     },
     "execution_count": 3,
     "metadata": {},
     "output_type": "execute_result"
    }
   ],
   "source": [
    "# numpy's main datatypes in ndarray\n",
    "a1 = np.array([1,3,4])\n",
    "a1"
   ]
  },
  {
   "cell_type": "code",
   "execution_count": 7,
   "id": "85b44273-8d71-460e-a5bd-6e5111a84375",
   "metadata": {},
   "outputs": [
    {
     "data": {
      "text/plain": [
       "numpy.ndarray"
      ]
     },
     "execution_count": 7,
     "metadata": {},
     "output_type": "execute_result"
    }
   ],
   "source": [
    "type(a1)"
   ]
  },
  {
   "cell_type": "code",
   "execution_count": 4,
   "id": "9e8bcd27-d66a-404c-bac3-6b970bd51f97",
   "metadata": {},
   "outputs": [],
   "source": [
    "a2 = np.array([[1,2.0,3.3],\n",
    "               [4, 5,6.5]])\n",
    "\n",
    "a3 = np.array([[[1, 2, 3],\n",
    "                [4, 5, 6],\n",
    "                [7, 8, 9]],\n",
    "               [[10, 11, 12],\n",
    "                [13, 14, 15],\n",
    "                [16, 17, 18]]])"
   ]
  },
  {
   "cell_type": "code",
   "execution_count": 9,
   "id": "1d78f05e-9d17-41b0-a397-e089c7368b6c",
   "metadata": {},
   "outputs": [
    {
     "data": {
      "text/plain": [
       "array([[[ 1,  2,  3],\n",
       "        [ 4,  5,  6],\n",
       "        [ 7,  8,  9]],\n",
       "\n",
       "       [[10, 11, 12],\n",
       "        [13, 14, 15],\n",
       "        [16, 17, 18]]])"
      ]
     },
     "execution_count": 9,
     "metadata": {},
     "output_type": "execute_result"
    }
   ],
   "source": [
    "a2\n",
    "a3"
   ]
  },
  {
   "cell_type": "code",
   "execution_count": 20,
   "id": "7dae2e62-6f1e-4568-a15e-a8b4b54c6f24",
   "metadata": {},
   "outputs": [
    {
     "data": {
      "text/plain": [
       "(3,)"
      ]
     },
     "execution_count": 20,
     "metadata": {},
     "output_type": "execute_result"
    }
   ],
   "source": [
    "a1.shape"
   ]
  },
  {
   "cell_type": "code",
   "execution_count": 21,
   "id": "1b3e0096-f746-4d50-9919-efab06e194e6",
   "metadata": {},
   "outputs": [
    {
     "data": {
      "text/plain": [
       "(2, 3)"
      ]
     },
     "execution_count": 21,
     "metadata": {},
     "output_type": "execute_result"
    }
   ],
   "source": [
    "a2.shape"
   ]
  },
  {
   "cell_type": "code",
   "execution_count": 22,
   "id": "f0010f1d-5e8c-471b-b68d-f6126a63994e",
   "metadata": {},
   "outputs": [
    {
     "data": {
      "text/plain": [
       "(2, 3, 3)"
      ]
     },
     "execution_count": 22,
     "metadata": {},
     "output_type": "execute_result"
    }
   ],
   "source": [
    "a3.shape"
   ]
  },
  {
   "cell_type": "code",
   "execution_count": 23,
   "id": "20d36abf-9a2d-4cca-a99d-de9d575848d7",
   "metadata": {},
   "outputs": [
    {
     "data": {
      "text/plain": [
       "(1, 2, 3)"
      ]
     },
     "execution_count": 23,
     "metadata": {},
     "output_type": "execute_result"
    }
   ],
   "source": [
    "a1.ndim, a2.ndim, a3.ndim"
   ]
  },
  {
   "cell_type": "code",
   "execution_count": 10,
   "id": "2ca3f630-ab12-45fb-8259-7281966d7fb9",
   "metadata": {},
   "outputs": [
    {
     "data": {
      "text/plain": [
       "dtype('int64')"
      ]
     },
     "execution_count": 10,
     "metadata": {},
     "output_type": "execute_result"
    }
   ],
   "source": [
    "a1.dtype"
   ]
  },
  {
   "cell_type": "code",
   "execution_count": 11,
   "id": "ed168b5b-2195-4125-8e51-67a852393921",
   "metadata": {},
   "outputs": [
    {
     "data": {
      "text/plain": [
       "3"
      ]
     },
     "execution_count": 11,
     "metadata": {},
     "output_type": "execute_result"
    }
   ],
   "source": [
    "a1.size"
   ]
  },
  {
   "cell_type": "code",
   "execution_count": 5,
   "id": "11ddc5cf-0422-45f8-8603-fb74f925e097",
   "metadata": {},
   "outputs": [
    {
     "data": {
      "text/html": [
       "<div>\n",
       "<style scoped>\n",
       "    .dataframe tbody tr th:only-of-type {\n",
       "        vertical-align: middle;\n",
       "    }\n",
       "\n",
       "    .dataframe tbody tr th {\n",
       "        vertical-align: top;\n",
       "    }\n",
       "\n",
       "    .dataframe thead th {\n",
       "        text-align: right;\n",
       "    }\n",
       "</style>\n",
       "<table border=\"1\" class=\"dataframe\">\n",
       "  <thead>\n",
       "    <tr style=\"text-align: right;\">\n",
       "      <th></th>\n",
       "      <th>0</th>\n",
       "      <th>1</th>\n",
       "      <th>2</th>\n",
       "    </tr>\n",
       "  </thead>\n",
       "  <tbody>\n",
       "    <tr>\n",
       "      <th>0</th>\n",
       "      <td>1.0</td>\n",
       "      <td>2.0</td>\n",
       "      <td>3.3</td>\n",
       "    </tr>\n",
       "    <tr>\n",
       "      <th>1</th>\n",
       "      <td>4.0</td>\n",
       "      <td>5.0</td>\n",
       "      <td>6.5</td>\n",
       "    </tr>\n",
       "  </tbody>\n",
       "</table>\n",
       "</div>"
      ],
      "text/plain": [
       "     0    1    2\n",
       "0  1.0  2.0  3.3\n",
       "1  4.0  5.0  6.5"
      ]
     },
     "execution_count": 5,
     "metadata": {},
     "output_type": "execute_result"
    }
   ],
   "source": [
    "# Create a DtaFrame from a numpy array\n",
    "import pandas as pd\n",
    "\n",
    "df = pd.DataFrame(a2)\n",
    "df"
   ]
  },
  {
   "cell_type": "code",
   "execution_count": 6,
   "id": "c9866dd4-a11f-4e1f-8596-e9da3e8adacc",
   "metadata": {},
   "outputs": [],
   "source": [
    "semple_array = np.array([1,2,3])"
   ]
  },
  {
   "cell_type": "markdown",
   "id": "d891cf93-a825-46c2-82de-339cba742acd",
   "metadata": {},
   "source": [
    "## 2. Creating arrays"
   ]
  },
  {
   "cell_type": "code",
   "execution_count": 7,
   "id": "9c54f4d2-e622-4f1e-9f69-30c5716d596a",
   "metadata": {},
   "outputs": [
    {
     "data": {
      "text/plain": [
       "array([1, 2, 3])"
      ]
     },
     "execution_count": 7,
     "metadata": {},
     "output_type": "execute_result"
    }
   ],
   "source": [
    "sample_array = np.array([1, 2, 3])\n",
    "sample_array"
   ]
  },
  {
   "cell_type": "code",
   "execution_count": 18,
   "id": "10809395-56ed-4dd3-97e2-4798df1703be",
   "metadata": {},
   "outputs": [
    {
     "data": {
      "text/plain": [
       "dtype('int64')"
      ]
     },
     "execution_count": 18,
     "metadata": {},
     "output_type": "execute_result"
    }
   ],
   "source": [
    "sample_array.dtype"
   ]
  },
  {
   "cell_type": "code",
   "execution_count": 8,
   "id": "bb071f63-fd28-4ae9-ae31-a1738f4cb447",
   "metadata": {},
   "outputs": [],
   "source": [
    "onces = np.ones((2, 3))"
   ]
  },
  {
   "cell_type": "code",
   "execution_count": 20,
   "id": "a2ce2bb6-d3dc-4b52-9919-ed4a7422c39f",
   "metadata": {},
   "outputs": [
    {
     "data": {
      "text/plain": [
       "array([[1., 1., 1.],\n",
       "       [1., 1., 1.]])"
      ]
     },
     "execution_count": 20,
     "metadata": {},
     "output_type": "execute_result"
    }
   ],
   "source": [
    "onces"
   ]
  },
  {
   "cell_type": "code",
   "execution_count": 25,
   "id": "d4fc1ec3-85b0-4de0-80e5-9ea7fd11aa0d",
   "metadata": {},
   "outputs": [
    {
     "data": {
      "text/plain": [
       "numpy.ndarray"
      ]
     },
     "execution_count": 25,
     "metadata": {},
     "output_type": "execute_result"
    }
   ],
   "source": [
    "onces.dtype\n",
    "type(onces)"
   ]
  },
  {
   "cell_type": "code",
   "execution_count": 9,
   "id": "175d2c1f-19d4-4eef-a510-c8b525e81549",
   "metadata": {},
   "outputs": [
    {
     "data": {
      "text/plain": [
       "array([[0., 0., 0.],\n",
       "       [0., 0., 0.]])"
      ]
     },
     "execution_count": 9,
     "metadata": {},
     "output_type": "execute_result"
    }
   ],
   "source": [
    "zeros = np.zeros((2, 3))\n",
    "zeros"
   ]
  },
  {
   "cell_type": "code",
   "execution_count": 10,
   "id": "2eb1cf77-ad19-413e-8feb-914c3a8c1493",
   "metadata": {},
   "outputs": [
    {
     "data": {
      "text/plain": [
       "array([0, 2, 4, 6, 8])"
      ]
     },
     "execution_count": 10,
     "metadata": {},
     "output_type": "execute_result"
    }
   ],
   "source": [
    "range_array = np.arange(0, 10, 2)\n",
    "range_array"
   ]
  },
  {
   "cell_type": "code",
   "execution_count": 11,
   "id": "b9a2f444-4754-48e3-881f-34e968031344",
   "metadata": {},
   "outputs": [
    {
     "data": {
      "text/plain": [
       "array([[1, 7, 7, 4, 7],\n",
       "       [1, 7, 3, 1, 8],\n",
       "       [9, 5, 4, 2, 7]])"
      ]
     },
     "execution_count": 11,
     "metadata": {},
     "output_type": "execute_result"
    }
   ],
   "source": [
    "range_array = np.random.randint(0, 10, size=(3, 5))\n",
    "range_array"
   ]
  },
  {
   "cell_type": "code",
   "execution_count": 11,
   "id": "0c1ca1a1-c0a7-46be-8140-0aa763ecc4c6",
   "metadata": {},
   "outputs": [
    {
     "data": {
      "text/plain": [
       "(3, 5)"
      ]
     },
     "execution_count": 11,
     "metadata": {},
     "output_type": "execute_result"
    }
   ],
   "source": [
    "range_array.shape"
   ]
  },
  {
   "cell_type": "code",
   "execution_count": 12,
   "id": "7506cd7d-3b16-455c-a484-ecd82eee9c32",
   "metadata": {},
   "outputs": [
    {
     "data": {
      "text/plain": [
       "array([[0.59163873, 0.54179913, 0.06159001],\n",
       "       [0.00349838, 0.74888955, 0.3714693 ],\n",
       "       [0.26708224, 0.22600841, 0.23385602],\n",
       "       [0.48076405, 0.00385537, 0.87586589],\n",
       "       [0.29594963, 0.78136899, 0.03646349]])"
      ]
     },
     "execution_count": 12,
     "metadata": {},
     "output_type": "execute_result"
    }
   ],
   "source": [
    "random_array_3 = np.random.rand(5, 3)\n",
    "random_array_3"
   ]
  },
  {
   "cell_type": "code",
   "execution_count": 15,
   "id": "2a9a6fa4-9fe5-473c-b8bd-699542341a66",
   "metadata": {},
   "outputs": [
    {
     "data": {
      "text/plain": [
       "(5, 3)"
      ]
     },
     "execution_count": 15,
     "metadata": {},
     "output_type": "execute_result"
    }
   ],
   "source": [
    "random_array_3.shape"
   ]
  },
  {
   "cell_type": "code",
   "execution_count": 13,
   "id": "ad39ae01-5acf-4d27-84a2-1703691c2f5f",
   "metadata": {},
   "outputs": [
    {
     "data": {
      "text/plain": [
       "array([[44, 47, 64, 67],\n",
       "       [67,  9, 83, 21],\n",
       "       [36, 87, 70, 88],\n",
       "       [88, 12, 58, 65],\n",
       "       [39, 87, 46, 88],\n",
       "       [81, 37, 25, 77],\n",
       "       [72,  9, 20, 80]])"
      ]
     },
     "execution_count": 13,
     "metadata": {},
     "output_type": "execute_result"
    }
   ],
   "source": [
    "# Pseudo-random numebrs\n",
    "np.random.seed(seed=0)\n",
    "random_array = np.random.randint(99, size=(7, 4))\n",
    "random_array"
   ]
  },
  {
   "cell_type": "code",
   "execution_count": 14,
   "id": "7d3d6141-db24-43e6-a928-2f0579c6c1b9",
   "metadata": {},
   "outputs": [
    {
     "data": {
      "text/plain": [
       "array([[0.83261985, 0.77815675, 0.87001215, 0.97861834],\n",
       "       [0.79915856, 0.46147936, 0.78052918, 0.11827443],\n",
       "       [0.63992102, 0.14335329, 0.94466892, 0.52184832],\n",
       "       [0.41466194, 0.26455561, 0.77423369, 0.45615033],\n",
       "       [0.56843395, 0.0187898 , 0.6176355 , 0.61209572],\n",
       "       [0.616934  , 0.94374808, 0.6818203 , 0.3595079 ],\n",
       "       [0.43703195, 0.6976312 , 0.06022547, 0.66676672]])"
      ]
     },
     "execution_count": 14,
     "metadata": {},
     "output_type": "execute_result"
    }
   ],
   "source": [
    "random_array_6 = np.random.random(size=(7, 4))\n",
    "random_array_6"
   ]
  },
  {
   "cell_type": "markdown",
   "id": "dfe79905-f079-4808-af13-4b0212c21159",
   "metadata": {},
   "source": [
    "## 3. Viewing arrays and matices"
   ]
  },
  {
   "cell_type": "code",
   "execution_count": 15,
   "id": "0122623f-ec06-464d-a6b3-5674ee58d914",
   "metadata": {},
   "outputs": [
    {
     "data": {
      "text/plain": [
       "array([0.0187898 , 0.06022547, 0.11827443, 0.14335329, 0.26455561,\n",
       "       0.3595079 , 0.41466194, 0.43703195, 0.45615033, 0.46147936,\n",
       "       0.52184832, 0.56843395, 0.61209572, 0.616934  , 0.6176355 ,\n",
       "       0.63992102, 0.66676672, 0.6818203 , 0.6976312 , 0.77423369,\n",
       "       0.77815675, 0.78052918, 0.79915856, 0.83261985, 0.87001215,\n",
       "       0.94374808, 0.94466892, 0.97861834])"
      ]
     },
     "execution_count": 15,
     "metadata": {},
     "output_type": "execute_result"
    }
   ],
   "source": [
    "np.unique(random_array_6)"
   ]
  },
  {
   "cell_type": "code",
   "execution_count": 52,
   "id": "a275df2e-9b36-4b6b-a41e-dd488dea3a8d",
   "metadata": {},
   "outputs": [
    {
     "data": {
      "text/plain": [
       "array([[[ 1,  2,  3],\n",
       "        [ 4,  5,  6],\n",
       "        [ 7,  8,  9]],\n",
       "\n",
       "       [[10, 11, 12],\n",
       "        [13, 14, 15],\n",
       "        [16, 17, 18]]])"
      ]
     },
     "execution_count": 52,
     "metadata": {},
     "output_type": "execute_result"
    }
   ],
   "source": [
    "a3"
   ]
  },
  {
   "cell_type": "code",
   "execution_count": 58,
   "id": "4c00f505-4972-4488-8160-b9971eeae946",
   "metadata": {},
   "outputs": [
    {
     "data": {
      "text/plain": [
       "array([[[ 1,  2],\n",
       "        [ 4,  5],\n",
       "        [ 7,  8]],\n",
       "\n",
       "       [[10, 11],\n",
       "        [13, 14],\n",
       "        [16, 17]]])"
      ]
     },
     "execution_count": 58,
     "metadata": {},
     "output_type": "execute_result"
    }
   ],
   "source": [
    "a3[:, :, :2]"
   ]
  },
  {
   "cell_type": "markdown",
   "id": "f382bfc1-3d00-4889-a6f4-7259435611ee",
   "metadata": {},
   "source": [
    "## Manipulating & comparing arrays"
   ]
  },
  {
   "cell_type": "markdown",
   "id": "a43f0605-06e7-4328-bda8-a42051a83267",
   "metadata": {},
   "source": [
    "### arthmetic"
   ]
  },
  {
   "cell_type": "code",
   "execution_count": 62,
   "id": "a4fcd746-ad77-4fed-aeeb-3c1cbb10538a",
   "metadata": {},
   "outputs": [
    {
     "data": {
      "text/plain": [
       "array([1, 3, 4])"
      ]
     },
     "execution_count": 62,
     "metadata": {},
     "output_type": "execute_result"
    }
   ],
   "source": [
    "a1"
   ]
  },
  {
   "cell_type": "code",
   "execution_count": 65,
   "id": "0fe62ccf-49ba-4bd9-bcfe-da2a29a8554f",
   "metadata": {},
   "outputs": [
    {
     "data": {
      "text/plain": [
       "array([1., 1., 1.])"
      ]
     },
     "execution_count": 65,
     "metadata": {},
     "output_type": "execute_result"
    }
   ],
   "source": [
    "ones = np.ones(3)\n",
    "ones"
   ]
  },
  {
   "cell_type": "code",
   "execution_count": 66,
   "id": "55d2f9ed-e331-4c5e-9796-94f97b20b956",
   "metadata": {},
   "outputs": [
    {
     "data": {
      "text/plain": [
       "array([0., 2., 3.])"
      ]
     },
     "execution_count": 66,
     "metadata": {},
     "output_type": "execute_result"
    }
   ],
   "source": [
    "a1 - ones"
   ]
  },
  {
   "cell_type": "code",
   "execution_count": 68,
   "id": "2742a95d-479a-47b5-bc96-01e6cb08b277",
   "metadata": {},
   "outputs": [
    {
     "data": {
      "text/plain": [
       "array([2., 4., 5.])"
      ]
     },
     "execution_count": 68,
     "metadata": {},
     "output_type": "execute_result"
    }
   ],
   "source": [
    "a1 + ones"
   ]
  },
  {
   "cell_type": "code",
   "execution_count": 69,
   "id": "62295e49-2392-4ca9-8247-445fde5ac927",
   "metadata": {},
   "outputs": [
    {
     "data": {
      "text/plain": [
       "array([[ 1. ,  6. , 13.2],\n",
       "       [ 4. , 15. , 26. ]])"
      ]
     },
     "execution_count": 69,
     "metadata": {},
     "output_type": "execute_result"
    }
   ],
   "source": [
    "a1 * a2"
   ]
  },
  {
   "cell_type": "code",
   "execution_count": 70,
   "id": "87aa0b37-5b24-4e4e-9e91-096d5bea7bce",
   "metadata": {},
   "outputs": [
    {
     "data": {
      "text/plain": [
       "array([[0. , 1. , 0.7],\n",
       "       [1. , 3. , 4. ]])"
      ]
     },
     "execution_count": 70,
     "metadata": {},
     "output_type": "execute_result"
    }
   ],
   "source": [
    "a1 % a2"
   ]
  },
  {
   "cell_type": "code",
   "execution_count": 16,
   "id": "c8d45689-916d-4c6e-986a-7ac5bfeb7514",
   "metadata": {},
   "outputs": [
    {
     "data": {
      "text/plain": [
       "array([[1.        , 1.5       , 1.21212121],\n",
       "       [0.25      , 0.6       , 0.61538462]])"
      ]
     },
     "execution_count": 16,
     "metadata": {},
     "output_type": "execute_result"
    }
   ],
   "source": [
    "a1 / a2"
   ]
  },
  {
   "cell_type": "code",
   "execution_count": 18,
   "id": "3562307e-3789-4aca-ae07-900588258815",
   "metadata": {},
   "outputs": [
    {
     "data": {
      "text/plain": [
       "array([[1., 1., 1.],\n",
       "       [0., 0., 0.]])"
      ]
     },
     "execution_count": 18,
     "metadata": {},
     "output_type": "execute_result"
    }
   ],
   "source": [
    "a1 // a2"
   ]
  },
  {
   "cell_type": "code",
   "execution_count": 19,
   "id": "143bf721-31d6-464c-826a-7293741887e0",
   "metadata": {},
   "outputs": [
    {
     "data": {
      "text/plain": [
       "array([[ 1.  ,  4.  , 10.89],\n",
       "       [16.  , 25.  , 42.25]])"
      ]
     },
     "execution_count": 19,
     "metadata": {},
     "output_type": "execute_result"
    }
   ],
   "source": [
    "a2 ** 2"
   ]
  },
  {
   "cell_type": "code",
   "execution_count": 23,
   "id": "63724dd5-229a-4791-ba35-97e21ca12f97",
   "metadata": {},
   "outputs": [
    {
     "data": {
      "text/plain": [
       "array([[ 1.  ,  4.  , 10.89],\n",
       "       [16.  , 25.  , 42.25]])"
      ]
     },
     "execution_count": 23,
     "metadata": {},
     "output_type": "execute_result"
    }
   ],
   "source": [
    "np.square(a2)"
   ]
  },
  {
   "cell_type": "code",
   "execution_count": 21,
   "id": "6fc139cf-7b68-4348-8157-3fb0b94cdfbd",
   "metadata": {},
   "outputs": [
    {
     "data": {
      "text/plain": [
       "array([[2., 4., 5.],\n",
       "       [2., 4., 5.]])"
      ]
     },
     "execution_count": 21,
     "metadata": {},
     "output_type": "execute_result"
    }
   ],
   "source": [
    "a1 + onces"
   ]
  },
  {
   "cell_type": "code",
   "execution_count": 25,
   "id": "a4bde8eb-2316-4f7d-8c62-3acbcc2d9711",
   "metadata": {},
   "outputs": [
    {
     "data": {
      "text/plain": [
       "array([[2., 4., 5.],\n",
       "       [2., 4., 5.]])"
      ]
     },
     "execution_count": 25,
     "metadata": {},
     "output_type": "execute_result"
    }
   ],
   "source": [
    "np.add(a1, onces)"
   ]
  },
  {
   "cell_type": "code",
   "execution_count": 26,
   "id": "ed2b9a96-8551-4a0a-b5e0-f97bdf796b3c",
   "metadata": {},
   "outputs": [
    {
     "data": {
      "text/plain": [
       "array([[1. , 0. , 1.3],\n",
       "       [0. , 1. , 0.5]])"
      ]
     },
     "execution_count": 26,
     "metadata": {},
     "output_type": "execute_result"
    }
   ],
   "source": [
    "a2 % 2"
   ]
  },
  {
   "cell_type": "code",
   "execution_count": 27,
   "id": "9cbab39f-ad96-4b72-9ec6-3d8628dcee4d",
   "metadata": {},
   "outputs": [
    {
     "data": {
      "text/plain": [
       "array([ 2.71828183, 20.08553692, 54.59815003])"
      ]
     },
     "execution_count": 27,
     "metadata": {},
     "output_type": "execute_result"
    }
   ],
   "source": [
    "np.exp(a1)"
   ]
  },
  {
   "cell_type": "code",
   "execution_count": 28,
   "id": "33d2fcf0-69b7-46a3-ab96-33e19a637d34",
   "metadata": {},
   "outputs": [
    {
     "data": {
      "text/plain": [
       "array([ 2.71828183, 20.08553692, 54.59815003])"
      ]
     },
     "execution_count": 28,
     "metadata": {},
     "output_type": "execute_result"
    }
   ],
   "source": [
    "np.exp(a1)"
   ]
  },
  {
   "cell_type": "code",
   "execution_count": null,
   "id": "38b1fc9e-232b-4c14-8fda-33e5ab256c1e",
   "metadata": {},
   "outputs": [],
   "source": [
    "np.log()"
   ]
  }
 ],
 "metadata": {
  "kernelspec": {
   "display_name": "Python 3 (ipykernel)",
   "language": "python",
   "name": "python3"
  },
  "language_info": {
   "codemirror_mode": {
    "name": "ipython",
    "version": 3
   },
   "file_extension": ".py",
   "mimetype": "text/x-python",
   "name": "python",
   "nbconvert_exporter": "python",
   "pygments_lexer": "ipython3",
   "version": "3.13.5"
  }
 },
 "nbformat": 4,
 "nbformat_minor": 5
}
